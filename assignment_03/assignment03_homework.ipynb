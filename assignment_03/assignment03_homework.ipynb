{
  "nbformat": 4,
  "nbformat_minor": 0,
  "metadata": {
    "colab": {
      "name": "assignment03_homework.ipynb",
      "provenance": [],
      "authorship_tag": "ABX9TyNqoBRWQbDmAAW5hE+n88sA",
      "include_colab_link": true
    },
    "kernelspec": {
      "name": "python3",
      "display_name": "Python 3"
    },
    "language_info": {
      "name": "python"
    }
  },
  "cells": [
    {
      "cell_type": "markdown",
      "metadata": {
        "id": "view-in-github",
        "colab_type": "text"
      },
      "source": [
        "<a href=\"https://colab.research.google.com/github/NihaRGali/data690_NihaGali/blob/main/assignment_03/assignment03_homework.ipynb\" target=\"_parent\"><img src=\"https://colab.research.google.com/assets/colab-badge.svg\" alt=\"Open In Colab\"/></a>"
      ]
    },
    {
      "cell_type": "markdown",
      "metadata": {
        "id": "Kn-kjwwa1SUI"
      },
      "source": [
        "# Homework - WEEK 3\n",
        "NIHA REDDY GALI"
      ]
    },
    {
      "cell_type": "markdown",
      "metadata": {
        "id": "eGiVvQw41e9L"
      },
      "source": [
        "## 1. Printing 100 random integers in a 10 by 10 matrix"
      ]
    },
    {
      "cell_type": "code",
      "metadata": {
        "colab": {
          "base_uri": "https://localhost:8080/"
        },
        "id": "upAZpdFZSWAa",
        "outputId": "ad5f158b-c90d-4609-eacb-6b428cd9574a"
      },
      "source": [
        "from random import randrange\n",
        "for i in range(10):\n",
        "    for j in range(10):\n",
        "        print(randrange(10),end=\" \")\n",
        "    print(\"\")\n",
        "        "
      ],
      "execution_count": 5,
      "outputs": [
        {
          "output_type": "stream",
          "name": "stdout",
          "text": [
            "8 3 7 4 7 2 6 4 6 2 \n",
            "6 7 3 6 3 4 1 6 6 8 \n",
            "5 3 9 5 9 7 4 4 7 0 \n",
            "1 8 5 4 9 6 5 0 7 2 \n",
            "3 6 5 6 9 4 6 9 1 1 \n",
            "6 5 0 1 7 2 1 1 4 3 \n",
            "6 9 8 2 4 7 5 9 9 9 \n",
            "8 1 3 4 7 9 6 3 3 3 \n",
            "8 3 5 8 1 7 1 4 2 7 \n",
            "8 0 5 0 7 2 3 3 4 2 \n"
          ]
        }
      ]
    },
    {
      "cell_type": "markdown",
      "metadata": {
        "id": "H6dM9V8R1RP2"
      },
      "source": [
        "## 2. Printing \"@\" if the random number is odd"
      ]
    },
    {
      "cell_type": "code",
      "metadata": {
        "colab": {
          "base_uri": "https://localhost:8080/"
        },
        "id": "LN7TIunXW1Ht",
        "outputId": "7627e646-fdd1-44c6-d0a9-d7cbdce203c8"
      },
      "source": [
        "\n",
        "for i in range(10):\n",
        "    for j in range(10):\n",
        "        a=randrange(10)\n",
        "        if a%2==1:\n",
        "            a=\"@\"\n",
        "        print(a,end=\" \")\n",
        "    print(\"\")\n",
        "        "
      ],
      "execution_count": 6,
      "outputs": [
        {
          "output_type": "stream",
          "name": "stdout",
          "text": [
            "@ @ 8 @ 6 @ 0 @ @ @ \n",
            "@ @ @ 0 @ 2 @ 2 4 @ \n",
            "8 2 0 2 @ 0 4 6 0 @ \n",
            "6 @ 6 6 6 @ 8 @ @ 6 \n",
            "@ @ @ @ 2 @ @ @ @ @ \n",
            "@ @ @ @ @ 4 0 6 @ @ \n",
            "@ @ @ @ 8 8 6 2 2 @ \n",
            "0 @ 0 8 0 2 4 2 @ @ \n",
            "@ 2 0 @ 6 2 8 @ @ @ \n",
            "@ 8 @ @ @ 4 @ 2 6 8 \n"
          ]
        }
      ]
    },
    {
      "cell_type": "markdown",
      "metadata": {
        "id": "GinnWhJo2Oxq"
      },
      "source": [
        "## 3. Printing the total of each row "
      ]
    },
    {
      "cell_type": "code",
      "metadata": {
        "colab": {
          "base_uri": "https://localhost:8080/"
        },
        "id": "U9ItbnOAZPO4",
        "outputId": "ef9a60a1-ce1b-4ab8-af1c-e6467bc1e218"
      },
      "source": [
        "\n",
        "for i in range(10):\n",
        "    sum=0\n",
        "    for j in range(10):\n",
        "        a=randrange(10)\n",
        "        sum=sum+a\n",
        "        print(a ,end=\" \")\n",
        "    print('* '+str(sum), end=\" \")\n",
        "    print(\"\")\n",
        "        "
      ],
      "execution_count": 9,
      "outputs": [
        {
          "output_type": "stream",
          "name": "stdout",
          "text": [
            "8 5 3 3 5 3 9 5 2 1 * 44 \n",
            "7 3 8 3 5 3 9 5 3 5 * 51 \n",
            "4 3 6 6 7 6 3 3 2 1 * 41 \n",
            "6 7 2 9 5 0 3 7 0 0 * 39 \n",
            "9 9 6 0 9 1 7 8 7 9 * 65 \n",
            "2 7 3 4 7 6 5 7 6 5 * 52 \n",
            "7 2 8 1 3 9 9 0 7 1 * 47 \n",
            "4 7 9 0 9 2 1 5 2 7 * 46 \n",
            "4 9 3 0 1 3 1 9 9 8 * 47 \n",
            "6 3 5 1 1 4 8 4 9 8 * 49 \n"
          ]
        }
      ]
    },
    {
      "cell_type": "markdown",
      "metadata": {
        "id": "T_H2_HG01N8Q"
      },
      "source": [
        "## 4. Surrounding the matrix with asterisks (*) "
      ]
    },
    {
      "cell_type": "code",
      "metadata": {
        "colab": {
          "base_uri": "https://localhost:8080/"
        },
        "id": "7HKjCrcsc73f",
        "outputId": "04cc1958-2b24-443c-e4fe-936f6cea6c8b"
      },
      "source": [
        "\n",
        "print('***********************')\n",
        "for i in range(10):\n",
        "    print(\"* \",end=\"\")\n",
        "    for j in range(10):\n",
        "        print(randrange(10),end=\" \")\n",
        "    print(\"*\")\n",
        "print('***********************')"
      ],
      "execution_count": 8,
      "outputs": [
        {
          "output_type": "stream",
          "name": "stdout",
          "text": [
            "***********************\n",
            "* 7 2 8 2 7 0 6 9 1 9 *\n",
            "* 2 4 0 8 3 6 1 6 1 6 *\n",
            "* 3 1 3 4 5 7 6 3 9 1 *\n",
            "* 6 3 2 5 9 3 5 1 8 2 *\n",
            "* 4 4 7 6 5 6 0 7 6 9 *\n",
            "* 4 3 3 4 4 8 6 9 6 5 *\n",
            "* 9 5 7 7 2 2 2 0 5 5 *\n",
            "* 2 6 1 6 1 2 8 5 7 2 *\n",
            "* 4 5 5 2 6 9 0 7 7 2 *\n",
            "* 4 1 9 6 0 3 5 4 6 6 *\n",
            "***********************\n"
          ]
        }
      ]
    }
  ]
}