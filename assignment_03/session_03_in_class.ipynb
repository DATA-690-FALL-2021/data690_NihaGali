{
  "nbformat": 4,
  "nbformat_minor": 0,
  "metadata": {
    "colab": {
      "name": "session_03_in_class.ipynb",
      "provenance": [],
      "authorship_tag": "ABX9TyMum1gpY3w6GnWmKnCnQbbM",
      "include_colab_link": true
    },
    "kernelspec": {
      "name": "python3",
      "display_name": "Python 3"
    },
    "language_info": {
      "name": "python"
    }
  },
  "cells": [
    {
      "cell_type": "markdown",
      "metadata": {
        "id": "view-in-github",
        "colab_type": "text"
      },
      "source": [
        "<a href=\"https://colab.research.google.com/github/NihaRGali/data690_NihaGali/blob/main/assignment_03/session_03_in_class.ipynb\" target=\"_parent\"><img src=\"https://colab.research.google.com/assets/colab-badge.svg\" alt=\"Open In Colab\"/></a>"
      ]
    },
    {
      "cell_type": "markdown",
      "metadata": {
        "id": "sIbCiZNz8RPy"
      },
      "source": [
        "# Session 3 In Class Practice\n",
        "- NIHA  REDDY  GALI \n",
        "- September 16"
      ]
    },
    {
      "cell_type": "markdown",
      "metadata": {
        "id": "V906Qtrm80-S"
      },
      "source": [
        "## 1. List Comprehension\n",
        "\n",
        "# This is traditional way of using for loop"
      ]
    },
    {
      "cell_type": "code",
      "metadata": {
        "colab": {
          "base_uri": "https://localhost:8080/"
        },
        "id": "DVP3sJD-889d",
        "outputId": "2d46c091-0fb1-4b1c-dda4-cb957cf51a7a"
      },
      "source": [
        "x = [-2, 0, 4, 6, 9]\n",
        "y = []\n",
        "\n",
        "for i in x:\n",
        "  new_number = i+10           #adding constant to every element in the list\n",
        "  print(new_number)\n",
        "  y.append(new_number)\n",
        "\n",
        "print(y)\n",
        "  "
      ],
      "execution_count": 3,
      "outputs": [
        {
          "output_type": "stream",
          "name": "stdout",
          "text": [
            "8\n",
            "10\n",
            "14\n",
            "16\n",
            "19\n",
            "[8, 10, 14, 16, 19]\n"
          ]
        }
      ]
    },
    {
      "cell_type": "markdown",
      "metadata": {
        "id": "xdhpU3HT-Z0U"
      },
      "source": [
        "# A new way using List Comprehension"
      ]
    },
    {
      "cell_type": "code",
      "metadata": {
        "colab": {
          "base_uri": "https://localhost:8080/"
        },
        "id": "tJMUcQm7-gjJ",
        "outputId": "7955ff64-dd6a-40a6-d9b9-5d1c36f12328"
      },
      "source": [
        "y=[i+10 for i in x]\n",
        "\n",
        "print(y)"
      ],
      "execution_count": 4,
      "outputs": [
        {
          "output_type": "stream",
          "name": "stdout",
          "text": [
            "[8, 10, 14, 16, 19]\n"
          ]
        }
      ]
    },
    {
      "cell_type": "code",
      "metadata": {
        "id": "0KTVnzbf80CD"
      },
      "source": [
        ""
      ],
      "execution_count": null,
      "outputs": []
    },
    {
      "cell_type": "markdown",
      "metadata": {
        "id": "ihJSW3Xe-x2d"
      },
      "source": [
        "## 2. User defined Function"
      ]
    },
    {
      "cell_type": "markdown",
      "metadata": {
        "id": "Ssj_BKnSAS4z"
      },
      "source": [
        "- Addition"
      ]
    },
    {
      "cell_type": "code",
      "metadata": {
        "colab": {
          "base_uri": "https://localhost:8080/"
        },
        "id": "Xt-kXEOV_J6h",
        "outputId": "d0e454fa-f9e2-4e21-bf30-2e8e677c356b"
      },
      "source": [
        "def addition(a, b):\n",
        "    return a +b \n",
        "    \n",
        "y = addition(2, 4)\n",
        "print(y)"
      ],
      "execution_count": 8,
      "outputs": [
        {
          "output_type": "stream",
          "name": "stdout",
          "text": [
            "6\n"
          ]
        }
      ]
    },
    {
      "cell_type": "markdown",
      "metadata": {
        "id": "zzRISJbkAQH0"
      },
      "source": [
        "- Division"
      ]
    },
    {
      "cell_type": "code",
      "metadata": {
        "colab": {
          "base_uri": "https://localhost:8080/"
        },
        "id": "kZJe-3f8_5qv",
        "outputId": "102544fa-4967-447c-ae83-7389808bc6d7"
      },
      "source": [
        "def division(a,b):\n",
        "  return a/b\n",
        "\n",
        "c = division(4, 2)\n",
        "print(c)"
      ],
      "execution_count": 7,
      "outputs": [
        {
          "output_type": "stream",
          "name": "stdout",
          "text": [
            "2.0\n"
          ]
        }
      ]
    },
    {
      "cell_type": "code",
      "metadata": {
        "id": "0I-mHPAIzyR6"
      },
      "source": [
        ""
      ],
      "execution_count": 4,
      "outputs": []
    }
  ]
}