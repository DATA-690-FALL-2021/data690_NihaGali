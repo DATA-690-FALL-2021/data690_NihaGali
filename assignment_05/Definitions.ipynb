{
 "cells": [
  {
   "cell_type": "markdown",
   "id": "5beee5e8",
   "metadata": {},
   "source": [
    "# Professor : Wang\n",
    "# Student   : Niha Reddy Gali\n",
    "# Date      : 10-03-2021"
   ]
  },
  {
   "cell_type": "markdown",
   "id": "7fbaad48",
   "metadata": {},
   "source": [
    "## Find out the definition of the below 9 variables and document the definitions in the Jupyter Notebook in a Markdown cell so that the readers of your notebook will know the meaning of these variables.\n",
    "\n",
    "#### UNITID\n",
    "It is item Unique Identification -  in this context it is referred to a uniuque id for institution.\n",
    "\n",
    "#### INSTNM\n",
    "It a label given to institution name.\n",
    "\n",
    "#### CITY\n",
    "It represents the city in which the institution is located.\n",
    "\n",
    "#### STABBR\n",
    "It represents the State Postal Code of the instution.\n",
    "\n",
    "#### ZIP\n",
    "It represents the ZIP code of the place where the institution is located.\n",
    "\n",
    "#### ADM_RATE\n",
    "It represents to the total of admitted students in the particular term.\n",
    "\n",
    "#### UGDS\n",
    "It represents the enrollment of undergraduate certificate or degree-seeking students in the institution.\n",
    "\n",
    "#### TUITIONFEE_IN\n",
    "It represents the In-state tuition and fees of the university.\n",
    "\n",
    "#### MN_EARN_WNE_P10\n",
    "It has the Mean earnings of students working and not enrolled for 10 years after entry from the institution."
   ]
  },
  {
   "cell_type": "markdown",
   "id": "7fa3cb0e",
   "metadata": {},
   "source": []
  }
 ],
 "metadata": {
  "kernelspec": {
   "display_name": "Python 3",
   "language": "python",
   "name": "python3"
  },
  "language_info": {
   "codemirror_mode": {
    "name": "ipython",
    "version": 3
   },
   "file_extension": ".py",
   "mimetype": "text/x-python",
   "name": "python",
   "nbconvert_exporter": "python",
   "pygments_lexer": "ipython3",
   "version": "3.6.13"
  }
 },
 "nbformat": 4,
 "nbformat_minor": 5
}
