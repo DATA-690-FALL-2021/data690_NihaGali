{
  "nbformat": 4,
  "nbformat_minor": 0,
  "metadata": {
    "colab": {
      "name": "assignment_10.ipynb",
      "provenance": [],
      "authorship_tag": "ABX9TyMazAnfIx36SCZr5FTa2WxE",
      "include_colab_link": true
    },
    "kernelspec": {
      "name": "python3",
      "display_name": "Python 3"
    },
    "language_info": {
      "name": "python"
    }
  },
  "cells": [
    {
      "cell_type": "markdown",
      "metadata": {
        "id": "view-in-github",
        "colab_type": "text"
      },
      "source": [
        "<a href=\"https://colab.research.google.com/github/NihaRGali/data690_NihaGali/blob/main/assignment_10/assignment_10.ipynb\" target=\"_parent\"><img src=\"https://colab.research.google.com/assets/colab-badge.svg\" alt=\"Open In Colab\"/></a>"
      ]
    },
    {
      "cell_type": "markdown",
      "metadata": {
        "id": "mnZ94mx6klbR"
      },
      "source": [
        "### Assignment_10\n",
        "### Professor : Wang\n",
        "### Student   : Niha Reddy Gali\n",
        "### Date      : 11/06/21"
      ]
    },
    {
      "cell_type": "code",
      "metadata": {
        "id": "lbwRq17nkyhE"
      },
      "source": [
        "import pandas as pd"
      ],
      "execution_count": null,
      "outputs": []
    },
    {
      "cell_type": "code",
      "metadata": {
        "id": "CgRwIVLuxGQa"
      },
      "source": [
        "df= pd.read_csv('./gapminder.tsv' , sep='\\t') \n",
        "df.head()"
      ],
      "execution_count": null,
      "outputs": []
    },
    {
      "cell_type": "code",
      "metadata": {
        "id": "WklAYuFVxJl6"
      },
      "source": [
        "df.columns"
      ],
      "execution_count": null,
      "outputs": []
    },
    {
      "cell_type": "code",
      "metadata": {
        "id": "-Po7HFjXryaH"
      },
      "source": [
        "df.index"
      ],
      "execution_count": null,
      "outputs": []
    },
    {
      "cell_type": "code",
      "metadata": {
        "id": "1KPpsJter2m4"
      },
      "source": [
        "df.values"
      ],
      "execution_count": null,
      "outputs": []
    },
    {
      "cell_type": "code",
      "metadata": {
        "id": "3vCVHZv_lpme"
      },
      "source": [
        "type(df)  "
      ],
      "execution_count": null,
      "outputs": []
    },
    {
      "cell_type": "code",
      "metadata": {
        "id": "tBsEW7-ur6R4"
      },
      "source": [
        "df.shape"
      ],
      "execution_count": null,
      "outputs": []
    },
    {
      "cell_type": "code",
      "metadata": {
        "id": "9q-zKsX1r-Vr"
      },
      "source": [
        "df.info()"
      ],
      "execution_count": null,
      "outputs": []
    },
    {
      "cell_type": "code",
      "metadata": {
        "id": "hMtO7r88sCFO"
      },
      "source": [
        "df['country']"
      ],
      "execution_count": null,
      "outputs": []
    },
    {
      "cell_type": "code",
      "metadata": {
        "id": "g97huPU8sFj5"
      },
      "source": [
        "country_df = df['country']\n",
        "country_df.head()"
      ],
      "execution_count": null,
      "outputs": []
    },
    {
      "cell_type": "code",
      "metadata": {
        "id": "aaF4bcfpsJBo"
      },
      "source": [
        "type(country_df)"
      ],
      "execution_count": null,
      "outputs": []
    },
    {
      "cell_type": "code",
      "metadata": {
        "id": "rCF3JxMXsLz7"
      },
      "source": [
        "subset = df[['country','continent','year']]\n",
        "subset.head()"
      ],
      "execution_count": null,
      "outputs": []
    },
    {
      "cell_type": "code",
      "metadata": {
        "id": "wKVUWfe6sOfw"
      },
      "source": [
        "df.loc[2]"
      ],
      "execution_count": null,
      "outputs": []
    },
    {
      "cell_type": "code",
      "metadata": {
        "id": "u7HW-j3psQxY"
      },
      "source": [
        "df.loc[[2,0]]"
      ],
      "execution_count": null,
      "outputs": []
    },
    {
      "cell_type": "code",
      "metadata": {
        "id": "HCsFoTsjsTQ4"
      },
      "source": [
        "df.iloc[2]"
      ],
      "execution_count": null,
      "outputs": []
    },
    {
      "cell_type": "code",
      "metadata": {
        "id": "sp61MfJ1sWUl"
      },
      "source": [
        "subset = df.loc[:,['year','pop']]\n",
        "subset.head()"
      ],
      "execution_count": null,
      "outputs": []
    },
    {
      "cell_type": "code",
      "metadata": {
        "id": "NNWS6NpHsaZm"
      },
      "source": [
        "df.loc[df['year'] == 1967,['year','pop']]"
      ],
      "execution_count": null,
      "outputs": []
    },
    {
      "cell_type": "code",
      "metadata": {
        "id": "GRC9e0E-sf5s"
      },
      "source": [
        "df.loc[(df['year'] == 1967) & (df['pop']>1_00_000),['year','pop']]"
      ],
      "execution_count": null,
      "outputs": []
    },
    {
      "cell_type": "code",
      "metadata": {
        "id": "xGah30QRsi5N"
      },
      "source": [
        ""
      ],
      "execution_count": null,
      "outputs": []
    },
    {
      "cell_type": "code",
      "metadata": {
        "id": "kW810lpFnT08"
      },
      "source": [
        "pew = pd.read_csv('data/pew.csv')\n",
        "pew.head()"
      ],
      "execution_count": null,
      "outputs": []
    },
    {
      "cell_type": "code",
      "metadata": {
        "id": "byQVEStknZzS"
      },
      "source": [
        "pew_long = pd.melt(pew,id_vars='religion')\n",
        "pew_long.head()"
      ],
      "execution_count": null,
      "outputs": []
    },
    {
      "cell_type": "code",
      "metadata": {
        "id": "qX_2-13ene5m"
      },
      "source": [
        "pew_long = pd.melt(pew,id_vars='religion',\n",
        "                  var_name='income',\n",
        "                  value_name='count'\n",
        "                  )\n",
        "pew_long.head()"
      ],
      "execution_count": null,
      "outputs": []
    },
    {
      "cell_type": "code",
      "metadata": {
        "id": "aGpEPvB8nknq"
      },
      "source": [
        "billboard = pd.read_csv('data/billboard.csv')\n",
        "billboard"
      ],
      "execution_count": null,
      "outputs": []
    },
    {
      "cell_type": "code",
      "metadata": {
        "id": "_hYdfiNknr5-"
      },
      "source": [
        "billboard_melt = pd.melt(\n",
        "    billboard, \n",
        "    id_vars = ['year', 'artist', 'track' ,'time','date.entered'],\n",
        "    var_name= 'week',\n",
        "    value_name = 'rating' )\n",
        "billboard_melt.head()"
      ],
      "execution_count": null,
      "outputs": []
    },
    {
      "cell_type": "code",
      "metadata": {
        "id": "1sLxv74MnycR"
      },
      "source": [
        "billboard.shape "
      ],
      "execution_count": null,
      "outputs": []
    },
    {
      "cell_type": "code",
      "metadata": {
        "id": "-kM2sYKzn1In"
      },
      "source": [
        "billboard_melt.shape"
      ],
      "execution_count": null,
      "outputs": []
    },
    {
      "cell_type": "code",
      "metadata": {
        "id": "GBEVgB6On5pq"
      },
      "source": [
        "ebola = pd.read_csv('data/country_timeseries.csv')     \n",
        "ebola.head()"
      ],
      "execution_count": null,
      "outputs": []
    },
    {
      "cell_type": "code",
      "metadata": {
        "id": "j1HvuHAIn-99"
      },
      "source": [
        "ebola_long = pd.melt(ebola,\n",
        "                    id_vars = ['Date','Day'])\n",
        "ebola_long.head()"
      ],
      "execution_count": null,
      "outputs": []
    },
    {
      "cell_type": "code",
      "metadata": {
        "id": "OhIgzIZIoAzs"
      },
      "source": [
        "'Cases_Guinea'.split('_')"
      ],
      "execution_count": null,
      "outputs": []
    },
    {
      "cell_type": "code",
      "metadata": {
        "id": "SViCYFcXoLCs"
      },
      "source": [
        "variable_split = ebola_long['variable'].str.split('_')\n",
        "variable_split"
      ],
      "execution_count": null,
      "outputs": []
    },
    {
      "cell_type": "code",
      "metadata": {
        "id": "wbBhz-lboP7f"
      },
      "source": [
        "variable_split.str.get(0)"
      ],
      "execution_count": null,
      "outputs": []
    },
    {
      "cell_type": "code",
      "metadata": {
        "id": "p-E4mF8joQ0A"
      },
      "source": [
        "variable_split.str.get(1)"
      ],
      "execution_count": null,
      "outputs": []
    },
    {
      "cell_type": "code",
      "metadata": {
        "id": "fr2YJJyNoae9"
      },
      "source": [
        "type(variable_split)"
      ],
      "execution_count": null,
      "outputs": []
    },
    {
      "cell_type": "code",
      "metadata": {
        "id": "0L870FDGo5Lq"
      },
      "source": [
        "ebola_long['stats'] = variable_split.str.get(0)      \n",
        "ebola_long['country'] = variable_split.str.get(1)\n",
        "ebola_long.head()"
      ],
      "execution_count": null,
      "outputs": []
    },
    {
      "cell_type": "code",
      "metadata": {
        "id": "5kuPA0Ubo7Q1"
      },
      "source": [
        "ebola_long[['stats_e','country_e']]=(ebola_long['variable']\n",
        "                                     .str\n",
        "                                     .split('_',expand=True))\n",
        "ebola_long"
      ],
      "execution_count": null,
      "outputs": []
    },
    {
      "cell_type": "code",
      "metadata": {
        "id": "u7YeKbsRpUMN"
      },
      "source": [
        "weather = pd.read_csv('data/weather.csv')\n",
        "weather"
      ],
      "execution_count": null,
      "outputs": []
    },
    {
      "cell_type": "code",
      "metadata": {
        "id": "MW2sJleFpfEI"
      },
      "source": [
        "weather_melt = pd.melt(\n",
        "    weather,\n",
        "    id_vars=['id','year','month','element'], \n",
        "    var_name='day', \n",
        "    value_name= 'temp'\n",
        "    )                   \n",
        "weather_melt"
      ],
      "execution_count": null,
      "outputs": []
    },
    {
      "cell_type": "code",
      "metadata": {
        "id": "HvgKtW4dpkW2"
      },
      "source": [
        "weather_tidy = weather_melt.pivot_table(\n",
        "    index=['id','year','month','day'],\n",
        "    columns='element',\n",
        "    values='temp'\n",
        ") \n",
        "weather_tidy.reset_index()"
      ],
      "execution_count": null,
      "outputs": []
    },
    {
      "cell_type": "code",
      "metadata": {
        "id": "OqcrBBlhppXd"
      },
      "source": [
        "billboard_melt.head()"
      ],
      "execution_count": null,
      "outputs": []
    },
    {
      "cell_type": "code",
      "metadata": {
        "id": "GvuwO80dpwL2"
      },
      "source": [
        "billboard_melt.loc[billboard_melt['track'] == 'Loser']"
      ],
      "execution_count": null,
      "outputs": []
    },
    {
      "cell_type": "code",
      "metadata": {
        "id": "XkK_x060p07S"
      },
      "source": [
        "billboard_songs = billboard_melt[['year','artist','track','time']]\n",
        "billboard_songs"
      ],
      "execution_count": null,
      "outputs": []
    },
    {
      "cell_type": "code",
      "metadata": {
        "id": "oAFaDa9_p2W_"
      },
      "source": [
        "billboard_songs.shape"
      ],
      "execution_count": null,
      "outputs": []
    },
    {
      "cell_type": "code",
      "metadata": {
        "id": "fcHj8VcZp6_J"
      },
      "source": [
        "\n",
        "billboard_songs.drop_duplicates()"
      ],
      "execution_count": null,
      "outputs": []
    },
    {
      "cell_type": "code",
      "metadata": {
        "id": "l_dKFmFjp_XD"
      },
      "source": [
        "billboard_songs[\"id\"] = range(len(billboard_songs))"
      ],
      "execution_count": null,
      "outputs": []
    },
    {
      "cell_type": "code",
      "metadata": {
        "id": "_iK39Y87qRfj"
      },
      "source": [
        "billboard_songs.head()"
      ],
      "execution_count": null,
      "outputs": []
    },
    {
      "cell_type": "code",
      "metadata": {
        "id": "dCrtkp6XqSd-"
      },
      "source": [
        "billboard_songs.to_csv('billboard_songs.csv',index=False)"
      ],
      "execution_count": null,
      "outputs": []
    },
    {
      "cell_type": "code",
      "metadata": {
        "id": "Nf8WD7klqZKa"
      },
      "source": [
        "billboard_ratings = billboard_melt.merge(\n",
        "    billboard_songs, on=['year','artist','track','time']\n",
        ")\n",
        "billboard_ratings.head()"
      ],
      "execution_count": null,
      "outputs": []
    },
    {
      "cell_type": "code",
      "metadata": {
        "id": "C8D9vVN-qiR_"
      },
      "source": [
        "billboard_ratings = billboard_ratings[['id','date.entered','week','rating']]\n",
        "billboard_ratings.head()"
      ],
      "execution_count": null,
      "outputs": []
    },
    {
      "cell_type": "code",
      "metadata": {
        "id": "aojIrO7uqnj_"
      },
      "source": [
        "billboard_ratings.to_csv('billboard_ratings.csv', index= False)"
      ],
      "execution_count": null,
      "outputs": []
    },
    {
      "cell_type": "code",
      "metadata": {
        "id": "ZM7Bl3m1qsgf"
      },
      "source": [
        "billboard_ratings.info()"
      ],
      "execution_count": null,
      "outputs": []
    },
    {
      "cell_type": "markdown",
      "metadata": {
        "id": "UhKXtwQNq002"
      },
      "source": [
        "# Conclusion\n",
        "- Worked with tab separeated values\n",
        "- variables can be stored in both rows and columns\n",
        "- A single unit is stored in multiple tables\n",
        "- Cleaned data and stored in organised way\n",
        "- Melt and split\n"
      ]
    }
  ]
}