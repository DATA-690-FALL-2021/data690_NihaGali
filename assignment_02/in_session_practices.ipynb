{
  "nbformat": 4,
  "nbformat_minor": 0,
  "metadata": {
    "colab": {
      "name": "in_session_practices.ipynb",
      "provenance": [],
      "collapsed_sections": [],
      "authorship_tag": "ABX9TyNPLQMErAjzWBgXx17/TJ8w",
      "include_colab_link": true
    },
    "kernelspec": {
      "name": "python3",
      "display_name": "Python 3"
    },
    "language_info": {
      "name": "python"
    }
  },
  "cells": [
    {
      "cell_type": "markdown",
      "metadata": {
        "id": "view-in-github",
        "colab_type": "text"
      },
      "source": [
        "<a href=\"https://colab.research.google.com/github/NihaRGali/data690_NihaGali/blob/main/assignment_02/in_session_practices.ipynb\" target=\"_parent\"><img src=\"https://colab.research.google.com/assets/colab-badge.svg\" alt=\"Open In Colab\"/></a>"
      ]
    },
    {
      "cell_type": "code",
      "metadata": {
        "id": "9FxlJlc--PAy"
      },
      "source": [
        ""
      ],
      "execution_count": null,
      "outputs": []
    },
    {
      "cell_type": "markdown",
      "metadata": {
        "id": "P8ZBlDPl-drN"
      },
      "source": [
        "##  In-session Hands_on Practices\n",
        "Professor : Wang\n",
        "\n",
        "Student   : Niha Reddy Gali"
      ]
    },
    {
      "cell_type": "markdown",
      "metadata": {
        "id": "rwjrQfCk_WVd"
      },
      "source": [
        "## 1. Simple text\n",
        "- int\n",
        "- float\n",
        "- string\n",
        "- boolean(true/false, firsletter, uppercase)\n",
        "- NaN(Not a Number, NULL value)"
      ]
    },
    {
      "cell_type": "markdown",
      "metadata": {
        "id": "GAWZ7JQUKmT5"
      },
      "source": [
        ""
      ]
    },
    {
      "cell_type": "code",
      "metadata": {
        "colab": {
          "base_uri": "https://localhost:8080/"
        },
        "id": "IANOivsT-2aS",
        "outputId": "d1723663-2c4c-4209-bdf5-f8e30f4bb243"
      },
      "source": [
        "x=509 #integer\n",
        "y=0.5 #float\n",
        "a=\"hi\" #string\n",
        "print(x,y,a)\n",
        "type(x)"
      ],
      "execution_count": 6,
      "outputs": [
        {
          "output_type": "stream",
          "name": "stdout",
          "text": [
            "509 0.5 hi\n"
          ]
        },
        {
          "output_type": "execute_result",
          "data": {
            "text/plain": [
              "int"
            ]
          },
          "metadata": {},
          "execution_count": 6
        }
      ]
    },
    {
      "cell_type": "code",
      "metadata": {
        "colab": {
          "base_uri": "https://localhost:8080/"
        },
        "id": "93-hK7xsAEHG",
        "outputId": "ba31f7c5-66ee-48e6-fbf8-9a98e21b4e92"
      },
      "source": [
        "type(a)"
      ],
      "execution_count": 7,
      "outputs": [
        {
          "output_type": "execute_result",
          "data": {
            "text/plain": [
              "str"
            ]
          },
          "metadata": {},
          "execution_count": 7
        }
      ]
    },
    {
      "cell_type": "markdown",
      "metadata": {
        "id": "kyWNKdKoAQny"
      },
      "source": [
        ""
      ]
    },
    {
      "cell_type": "markdown",
      "metadata": {
        "id": "UT0d--Ij_Up8"
      },
      "source": [
        ""
      ]
    },
    {
      "cell_type": "markdown",
      "metadata": {
        "id": "BPM-QdvO_eRK"
      },
      "source": [
        "## 2. Collection type"
      ]
    },
    {
      "cell_type": "code",
      "metadata": {
        "colab": {
          "base_uri": "https://localhost:8080/"
        },
        "id": "HVJtoQAO_kqu",
        "outputId": "8887280e-1954-4220-994a-1fa6507f60d7"
      },
      "source": [
        "list=[9,8,7,6,5]\n",
        "print(list)\n",
        "type(list)"
      ],
      "execution_count": 5,
      "outputs": [
        {
          "output_type": "stream",
          "name": "stdout",
          "text": [
            "[9, 8, 7, 6, 5]\n"
          ]
        },
        {
          "output_type": "execute_result",
          "data": {
            "text/plain": [
              "list"
            ]
          },
          "metadata": {},
          "execution_count": 5
        }
      ]
    },
    {
      "cell_type": "markdown",
      "metadata": {
        "id": "0JxvkC-aASXe"
      },
      "source": [
        "## 3. Loop"
      ]
    },
    {
      "cell_type": "code",
      "metadata": {
        "colab": {
          "base_uri": "https://localhost:8080/"
        },
        "id": "Lud73Di_AXHO",
        "outputId": "46a664cf-5c9c-495a-f361-f35c6f213ab2"
      },
      "source": [
        "for i in list:\n",
        "  print(i)"
      ],
      "execution_count": 8,
      "outputs": [
        {
          "output_type": "stream",
          "name": "stdout",
          "text": [
            "9\n",
            "8\n",
            "7\n",
            "6\n",
            "5\n"
          ]
        }
      ]
    },
    {
      "cell_type": "code",
      "metadata": {
        "colab": {
          "base_uri": "https://localhost:8080/"
        },
        "id": "NKI-IZbzA0P2",
        "outputId": "e6212b10-444a-4214-d756-7c33ac934120"
      },
      "source": [
        "for i in list:\n",
        "  print(\"interger\",i)"
      ],
      "execution_count": 9,
      "outputs": [
        {
          "output_type": "stream",
          "name": "stdout",
          "text": [
            "interger 9\n",
            "interger 8\n",
            "interger 7\n",
            "interger 6\n",
            "interger 5\n"
          ]
        }
      ]
    },
    {
      "cell_type": "code",
      "metadata": {
        "id": "rgCzh3XoCVNt"
      },
      "source": [
        ""
      ],
      "execution_count": null,
      "outputs": []
    },
    {
      "cell_type": "markdown",
      "metadata": {
        "id": "N_UCU2VUBlBJ"
      },
      "source": [
        "## 4. Conditions\n"
      ]
    },
    {
      "cell_type": "code",
      "metadata": {
        "colab": {
          "base_uri": "https://localhost:8080/"
        },
        "id": "1oazT5ZFBona",
        "outputId": "a84ff4b2-2166-4e45-b114-431579983d3d"
      },
      "source": [
        "print(10%2)"
      ],
      "execution_count": 10,
      "outputs": [
        {
          "output_type": "stream",
          "name": "stdout",
          "text": [
            "0\n"
          ]
        }
      ]
    },
    {
      "cell_type": "code",
      "metadata": {
        "colab": {
          "base_uri": "https://localhost:8080/"
        },
        "id": "IvX5WjG1B9Nm",
        "outputId": "6ebbb19d-94a2-4645-e9fe-18501bcf9bd0"
      },
      "source": [
        "print(33%2)"
      ],
      "execution_count": 11,
      "outputs": [
        {
          "output_type": "stream",
          "name": "stdout",
          "text": [
            "1\n"
          ]
        }
      ]
    },
    {
      "cell_type": "code",
      "metadata": {
        "colab": {
          "base_uri": "https://localhost:8080/"
        },
        "id": "MlqrWMXICW3p",
        "outputId": "3471519f-c4e8-4786-bcdd-cc8cfa1f182a"
      },
      "source": [
        "for i in list:\n",
        "  if(i%2==1):\n",
        "      print(\"oddnumber\",i)\n",
        "     \n"
      ],
      "execution_count": 13,
      "outputs": [
        {
          "output_type": "stream",
          "name": "stdout",
          "text": [
            "oddnumber 9\n",
            "oddnumber 7\n",
            "oddnumber 5\n"
          ]
        }
      ]
    },
    {
      "cell_type": "markdown",
      "metadata": {
        "id": "kwcYkOWE_OM1"
      },
      "source": [
        ""
      ]
    },
    {
      "cell_type": "markdown",
      "metadata": {
        "id": "RnLUwUcQKnw_"
      },
      "source": [
        "## 5. Python built-in functions\n",
        "- range()\n",
        "-list()"
      ]
    },
    {
      "cell_type": "markdown",
      "metadata": {
        "id": "akI79yyMNn9M"
      },
      "source": [
        ""
      ]
    },
    {
      "cell_type": "code",
      "metadata": {
        "colab": {
          "base_uri": "https://localhost:8080/"
        },
        "id": "GNYNnP6XLEKO",
        "outputId": "f8c64934-2e90-419b-8984-0b368988f389"
      },
      "source": [
        "for i in range(10,21,2):   #start=10 stop=20 including 21 increase by 2\n",
        "    print(i)\n"
      ],
      "execution_count": 14,
      "outputs": [
        {
          "output_type": "stream",
          "name": "stdout",
          "text": [
            "10\n",
            "12\n",
            "14\n",
            "16\n",
            "18\n",
            "20\n"
          ]
        }
      ]
    },
    {
      "cell_type": "code",
      "metadata": {
        "colab": {
          "base_uri": "https://localhost:8080/"
        },
        "id": "w6Emw4bdLhrU",
        "outputId": "b798bffd-aff8-4089-c078-be9bfb2549a1"
      },
      "source": [
        "for j in range(0,10):\n",
        "  print(j)"
      ],
      "execution_count": 17,
      "outputs": [
        {
          "output_type": "stream",
          "name": "stdout",
          "text": [
            "0\n",
            "1\n",
            "2\n",
            "3\n",
            "4\n",
            "5\n",
            "6\n",
            "7\n",
            "8\n",
            "9\n"
          ]
        }
      ]
    },
    {
      "cell_type": "code",
      "metadata": {
        "colab": {
          "base_uri": "https://localhost:8080/"
        },
        "id": "0ng9v-TJNBtY",
        "outputId": "09b951ac-502f-483c-9af1-a2c48ac7ab55"
      },
      "source": [
        "x=\"10\"\n",
        "y=int(x)\n",
        "print(x,y)"
      ],
      "execution_count": 24,
      "outputs": [
        {
          "output_type": "stream",
          "name": "stdout",
          "text": [
            "10 10\n"
          ]
        }
      ]
    },
    {
      "cell_type": "code",
      "metadata": {
        "colab": {
          "base_uri": "https://localhost:8080/"
        },
        "id": "5jOdsQsuNcub",
        "outputId": "11845bfa-e456-41dd-fdfa-478560094362"
      },
      "source": [
        "type(x)"
      ],
      "execution_count": 25,
      "outputs": [
        {
          "output_type": "execute_result",
          "data": {
            "text/plain": [
              "str"
            ]
          },
          "metadata": {},
          "execution_count": 25
        }
      ]
    },
    {
      "cell_type": "code",
      "metadata": {
        "id": "-eKTv8kENf2A"
      },
      "source": [
        ""
      ],
      "execution_count": null,
      "outputs": []
    },
    {
      "cell_type": "markdown",
      "metadata": {
        "id": "y22Ll5bANqON"
      },
      "source": [
        "## 6. Accepting user inputs"
      ]
    },
    {
      "cell_type": "code",
      "metadata": {
        "colab": {
          "base_uri": "https://localhost:8080/"
        },
        "id": "P-xQiTKhNw8h",
        "outputId": "f7b94c94-976c-4aff-9e3d-7c59f7817062"
      },
      "source": [
        "x=input(\"Enter an integer\")"
      ],
      "execution_count": 27,
      "outputs": [
        {
          "name": "stdout",
          "output_type": "stream",
          "text": [
            "Enter an integer10\n"
          ]
        }
      ]
    },
    {
      "cell_type": "code",
      "metadata": {
        "id": "dKEb5ZkfOf_U"
      },
      "source": [
        ""
      ],
      "execution_count": null,
      "outputs": []
    },
    {
      "cell_type": "markdown",
      "metadata": {
        "id": "apKmWn5aOhPu"
      },
      "source": [
        ""
      ]
    },
    {
      "cell_type": "code",
      "metadata": {
        "id": "RxpSUTZaMfuW"
      },
      "source": [
        ""
      ],
      "execution_count": 27,
      "outputs": []
    },
    {
      "cell_type": "code",
      "metadata": {
        "colab": {
          "base_uri": "https://localhost:8080/"
        },
        "id": "6JhGn1PVOBp_",
        "outputId": "b43a6fd7-2d34-42cb-f5ab-e14ed864402f"
      },
      "source": [
        "type(x)\n"
      ],
      "execution_count": 28,
      "outputs": [
        {
          "output_type": "execute_result",
          "data": {
            "text/plain": [
              "str"
            ]
          },
          "metadata": {},
          "execution_count": 28
        }
      ]
    },
    {
      "cell_type": "code",
      "metadata": {
        "colab": {
          "base_uri": "https://localhost:8080/"
        },
        "id": "Glj2M1X8OHPA",
        "outputId": "7435e208-e30a-45f2-9121-dfd49e340247"
      },
      "source": [
        "print(x)"
      ],
      "execution_count": 29,
      "outputs": [
        {
          "output_type": "stream",
          "name": "stdout",
          "text": [
            "10\n"
          ]
        }
      ]
    },
    {
      "cell_type": "code",
      "metadata": {
        "id": "CCbExOrZOkr1"
      },
      "source": [
        ""
      ],
      "execution_count": null,
      "outputs": []
    },
    {
      "cell_type": "markdown",
      "metadata": {
        "id": "7GUNKLbZOoJi"
      },
      "source": [
        "## 7. Exceptional Handling"
      ]
    },
    {
      "cell_type": "code",
      "metadata": {
        "colab": {
          "base_uri": "https://localhost:8080/"
        },
        "id": "a8nTjVPsOs4G",
        "outputId": "ed17c0e2-c382-4cdb-b7dc-b9bfc3d2e5ef"
      },
      "source": [
        "y=int(\"20\")\n",
        "print(y)"
      ],
      "execution_count": 33,
      "outputs": [
        {
          "output_type": "stream",
          "name": "stdout",
          "text": [
            "20\n"
          ]
        }
      ]
    },
    {
      "cell_type": "code",
      "metadata": {
        "colab": {
          "base_uri": "https://localhost:8080/"
        },
        "id": "BqrdRmToO3Pg",
        "outputId": "bd027b2d-9fe6-4b95-c5cf-af0f895620f5"
      },
      "source": [
        "x= input(\"please enter an integer:\")\n",
        "try:\n",
        "    y=int(x)\n",
        "    print(\"get integer:\", y)\n",
        "except:\n",
        "    print(\"unable to convert user input to integer:\")\n"
      ],
      "execution_count": 38,
      "outputs": [
        {
          "output_type": "stream",
          "name": "stdout",
          "text": [
            "please enter an integer:45\n",
            "get integer: 45\n"
          ]
        }
      ]
    },
    {
      "cell_type": "markdown",
      "metadata": {
        "id": "nu8iFeBGPwE7"
      },
      "source": [
        "## 8. Infinite loop"
      ]
    },
    {
      "cell_type": "code",
      "metadata": {
        "colab": {
          "base_uri": "https://localhost:8080/"
        },
        "id": "aeC6frp2Pz6X",
        "outputId": "f7b75cff-de69-4811-f257-300057efc096"
      },
      "source": [
        "while True:\n",
        "    x= input(\"please enter an integer\")\n",
        "    try:\n",
        "        y=int(x)\n",
        "        print(\"got integer:\",y)\n",
        "        break\n",
        "    except:\n",
        "        print(\"you must enter an integer, Please try again\")"
      ],
      "execution_count": 36,
      "outputs": [
        {
          "output_type": "stream",
          "name": "stdout",
          "text": [
            "please enter an integer45\n",
            "got integer: 45\n"
          ]
        }
      ]
    }
  ]
}