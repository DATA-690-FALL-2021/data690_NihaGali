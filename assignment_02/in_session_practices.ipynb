{
  "nbformat": 4,
  "nbformat_minor": 0,
  "metadata": {
    "colab": {
      "name": "in_session_practices.ipynb",
      "provenance": [],
      "authorship_tag": "ABX9TyOfGUinsivkSJAHgoMr0zTZ",
      "include_colab_link": true
    },
    "kernelspec": {
      "name": "python3",
      "display_name": "Python 3"
    },
    "language_info": {
      "name": "python"
    }
  },
  "cells": [
    {
      "cell_type": "markdown",
      "metadata": {
        "id": "view-in-github",
        "colab_type": "text"
      },
      "source": [
        "<a href=\"https://colab.research.google.com/github/NihaRGali/data690_NihaGali/blob/main/assignment_02/in_session_practices.ipynb\" target=\"_parent\"><img src=\"https://colab.research.google.com/assets/colab-badge.svg\" alt=\"Open In Colab\"/></a>"
      ]
    },
    {
      "cell_type": "code",
      "metadata": {
        "id": "9FxlJlc--PAy"
      },
      "source": [
        ""
      ],
      "execution_count": null,
      "outputs": []
    },
    {
      "cell_type": "markdown",
      "metadata": {
        "id": "P8ZBlDPl-drN"
      },
      "source": [
        "* In-session Hands_on Practices\n",
        "Professor : Wang\n",
        "Student   : Niha Reddy Gali"
      ]
    },
    {
      "cell_type": "markdown",
      "metadata": {
        "id": "rwjrQfCk_WVd"
      },
      "source": [
        "## 1. Simple text"
      ]
    },
    {
      "cell_type": "code",
      "metadata": {
        "colab": {
          "base_uri": "https://localhost:8080/"
        },
        "id": "IANOivsT-2aS",
        "outputId": "d1723663-2c4c-4209-bdf5-f8e30f4bb243"
      },
      "source": [
        "x=509 #integer\n",
        "y=0.5 #float\n",
        "a=\"hi\" #string\n",
        "print(x,y,a)\n",
        "type(x)"
      ],
      "execution_count": 6,
      "outputs": [
        {
          "output_type": "stream",
          "name": "stdout",
          "text": [
            "509 0.5 hi\n"
          ]
        },
        {
          "output_type": "execute_result",
          "data": {
            "text/plain": [
              "int"
            ]
          },
          "metadata": {},
          "execution_count": 6
        }
      ]
    },
    {
      "cell_type": "code",
      "metadata": {
        "colab": {
          "base_uri": "https://localhost:8080/"
        },
        "id": "93-hK7xsAEHG",
        "outputId": "ba31f7c5-66ee-48e6-fbf8-9a98e21b4e92"
      },
      "source": [
        "type(a)"
      ],
      "execution_count": 7,
      "outputs": [
        {
          "output_type": "execute_result",
          "data": {
            "text/plain": [
              "str"
            ]
          },
          "metadata": {},
          "execution_count": 7
        }
      ]
    },
    {
      "cell_type": "markdown",
      "metadata": {
        "id": "kyWNKdKoAQny"
      },
      "source": [
        ""
      ]
    },
    {
      "cell_type": "markdown",
      "metadata": {
        "id": "UT0d--Ij_Up8"
      },
      "source": [
        ""
      ]
    },
    {
      "cell_type": "markdown",
      "metadata": {
        "id": "BPM-QdvO_eRK"
      },
      "source": [
        "## 2. Collection type"
      ]
    },
    {
      "cell_type": "code",
      "metadata": {
        "colab": {
          "base_uri": "https://localhost:8080/"
        },
        "id": "HVJtoQAO_kqu",
        "outputId": "8887280e-1954-4220-994a-1fa6507f60d7"
      },
      "source": [
        "list=[9,8,7,6,5]\n",
        "print(list)\n",
        "type(list)"
      ],
      "execution_count": 5,
      "outputs": [
        {
          "output_type": "stream",
          "name": "stdout",
          "text": [
            "[9, 8, 7, 6, 5]\n"
          ]
        },
        {
          "output_type": "execute_result",
          "data": {
            "text/plain": [
              "list"
            ]
          },
          "metadata": {},
          "execution_count": 5
        }
      ]
    },
    {
      "cell_type": "markdown",
      "metadata": {
        "id": "0JxvkC-aASXe"
      },
      "source": [
        "## 3. Loop"
      ]
    },
    {
      "cell_type": "code",
      "metadata": {
        "colab": {
          "base_uri": "https://localhost:8080/"
        },
        "id": "Lud73Di_AXHO",
        "outputId": "46a664cf-5c9c-495a-f361-f35c6f213ab2"
      },
      "source": [
        "for i in list:\n",
        "  print(i)"
      ],
      "execution_count": 8,
      "outputs": [
        {
          "output_type": "stream",
          "name": "stdout",
          "text": [
            "9\n",
            "8\n",
            "7\n",
            "6\n",
            "5\n"
          ]
        }
      ]
    },
    {
      "cell_type": "code",
      "metadata": {
        "colab": {
          "base_uri": "https://localhost:8080/"
        },
        "id": "NKI-IZbzA0P2",
        "outputId": "e6212b10-444a-4214-d756-7c33ac934120"
      },
      "source": [
        "for i in list:\n",
        "  print(\"interger\",i)"
      ],
      "execution_count": 9,
      "outputs": [
        {
          "output_type": "stream",
          "name": "stdout",
          "text": [
            "interger 9\n",
            "interger 8\n",
            "interger 7\n",
            "interger 6\n",
            "interger 5\n"
          ]
        }
      ]
    },
    {
      "cell_type": "code",
      "metadata": {
        "id": "rgCzh3XoCVNt"
      },
      "source": [
        ""
      ],
      "execution_count": null,
      "outputs": []
    },
    {
      "cell_type": "markdown",
      "metadata": {
        "id": "N_UCU2VUBlBJ"
      },
      "source": [
        "## 4. Conditions\n"
      ]
    },
    {
      "cell_type": "code",
      "metadata": {
        "colab": {
          "base_uri": "https://localhost:8080/"
        },
        "id": "1oazT5ZFBona",
        "outputId": "a84ff4b2-2166-4e45-b114-431579983d3d"
      },
      "source": [
        "print(10%2)"
      ],
      "execution_count": 10,
      "outputs": [
        {
          "output_type": "stream",
          "name": "stdout",
          "text": [
            "0\n"
          ]
        }
      ]
    },
    {
      "cell_type": "code",
      "metadata": {
        "colab": {
          "base_uri": "https://localhost:8080/"
        },
        "id": "IvX5WjG1B9Nm",
        "outputId": "6ebbb19d-94a2-4645-e9fe-18501bcf9bd0"
      },
      "source": [
        "print(33%2)"
      ],
      "execution_count": 11,
      "outputs": [
        {
          "output_type": "stream",
          "name": "stdout",
          "text": [
            "1\n"
          ]
        }
      ]
    },
    {
      "cell_type": "code",
      "metadata": {
        "colab": {
          "base_uri": "https://localhost:8080/"
        },
        "id": "MlqrWMXICW3p",
        "outputId": "3471519f-c4e8-4786-bcdd-cc8cfa1f182a"
      },
      "source": [
        "for i in list:\n",
        "  if(i%2==1):\n",
        "      print(\"oddnumber\",i)\n",
        "     \n"
      ],
      "execution_count": 13,
      "outputs": [
        {
          "output_type": "stream",
          "name": "stdout",
          "text": [
            "oddnumber 9\n",
            "oddnumber 7\n",
            "oddnumber 5\n"
          ]
        }
      ]
    },
    {
      "cell_type": "markdown",
      "metadata": {
        "id": "kwcYkOWE_OM1"
      },
      "source": [
        ""
      ]
    }
  ]
}