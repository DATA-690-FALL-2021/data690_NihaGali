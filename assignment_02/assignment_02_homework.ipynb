{
  "nbformat": 4,
  "nbformat_minor": 0,
  "metadata": {
    "colab": {
      "name": "assignment_02_homework.ipynb",
      "provenance": [],
      "authorship_tag": "ABX9TyMrXwEEXtO++jBvu78axfcl",
      "include_colab_link": true
    },
    "kernelspec": {
      "name": "python3",
      "display_name": "Python 3"
    },
    "language_info": {
      "name": "python"
    }
  },
  "cells": [
    {
      "cell_type": "markdown",
      "metadata": {
        "id": "view-in-github",
        "colab_type": "text"
      },
      "source": [
        "<a href=\"https://colab.research.google.com/github/NihaRGali/data690_NihaGali/blob/main/assignment_02/assignment_02_homework.ipynb\" target=\"_parent\"><img src=\"https://colab.research.google.com/assets/colab-badge.svg\" alt=\"Open In Colab\"/></a>"
      ]
    },
    {
      "cell_type": "code",
      "metadata": {
        "id": "Ifzz-moB9WdF"
      },
      "source": [
        ""
      ],
      "execution_count": null,
      "outputs": []
    },
    {
      "cell_type": "markdown",
      "metadata": {
        "id": "-Fu9a8sx91pN"
      },
      "source": [
        "## 1. Prompt a user to enter 10 integers"
      ]
    },
    {
      "cell_type": "code",
      "metadata": {
        "colab": {
          "base_uri": "https://localhost:8080/"
        },
        "id": "6RRljPgI95wT",
        "outputId": "6861ee8f-8208-49e7-91c8-aa6869dda201"
      },
      "source": [
        "a_list=[]       #creating an empty list to store input values\n",
        "for i in range(0,10):         #user giving 10 inputs using keyboard\n",
        "    1while  True :\n",
        "        x=input(\"Please enter an integer\")\n",
        "        try:\n",
        "            y=int(x)\n",
        "            a_list.append(y)    #adding elements into the list\n",
        "            print(\"Got integer\",y)\n",
        "            break\n",
        "        except:\n",
        "            print(\"You must enter an integer. Please try again\")    #remider to show that the list accepts only integers\n",
        "print(\"Integers in the list are :\", a_list)               #prints the entire list of elements added into the list "
      ],
      "execution_count": 2,
      "outputs": [
        {
          "output_type": "stream",
          "name": "stdout",
          "text": [
            "Please enter an integer1\n",
            "Got integer 1\n",
            "Please enter an integer2\n",
            "Got integer 2\n",
            "Please enter an integer3\n",
            "Got integer 3\n",
            "Please enter an integer5\n",
            "Got integer 5\n",
            "Please enter an integer4\n",
            "Got integer 4\n",
            "Please enter an integer6\n",
            "Got integer 6\n",
            "Please enter an integer7\n",
            "Got integer 7\n",
            "Please enter an integer8\n",
            "Got integer 8\n",
            "Please enter an integer9\n",
            "Got integer 9\n",
            "Please enter an integer\n",
            "You must enter an integer. Please try again\n",
            "Please enter an integer2\n",
            "Got integer 2\n",
            "Integers in the list are : [1, 2, 3, 5, 4, 6, 7, 8, 9, 2]\n"
          ]
        }
      ]
    },
    {
      "cell_type": "markdown",
      "metadata": {
        "id": "ZaIUzcMDDYGH"
      },
      "source": [
        "## 2&3 Finding Minimum and Maximum element from the list using loop concept"
      ]
    },
    {
      "cell_type": "code",
      "metadata": {
        "colab": {
          "base_uri": "https://localhost:8080/"
        },
        "id": "sbu_73TID1Mn",
        "outputId": "072c0663-03f2-4edb-c83b-fa24017da22e"
      },
      "source": [
        "minimum=a_list[0]\n",
        "maximum=a_list[0]\n",
        "total=0\n",
        "for i in a_list:\n",
        "  total=total+i\n",
        "  if i > maximum:\n",
        "      maximum=i\n",
        "  elif i < minimum:\n",
        "      minimum=i\n",
        "print(\"Maximum element in the list is:\", maximum)\n",
        "print(\"Minimum element in the list is:\",minimum)\n"
      ],
      "execution_count": 5,
      "outputs": [
        {
          "output_type": "stream",
          "name": "stdout",
          "text": [
            "Maximum element in the list is: 9\n",
            "Minimum element in the list is: 1\n"
          ]
        }
      ]
    },
    {
      "cell_type": "markdown",
      "metadata": {
        "id": "b_cioJbjGLPG"
      },
      "source": [
        "## 4. Range\n",
        "\n",
        "## Definition : Range is defined as, \" The difference between maximum and minimum values of a list \""
      ]
    },
    {
      "cell_type": "code",
      "metadata": {
        "colab": {
          "base_uri": "https://localhost:8080/"
        },
        "id": "ALGqhsjLGv06",
        "outputId": "c394994e-8039-4272-f609-4c75512b2d6f"
      },
      "source": [
        "Range = maximum-minimum\n",
        "print(\"The Range of the elements in the list is:\", Range)"
      ],
      "execution_count": 6,
      "outputs": [
        {
          "output_type": "stream",
          "name": "stdout",
          "text": [
            "The Range of the elements in the list is: 8\n"
          ]
        }
      ]
    },
    {
      "cell_type": "markdown",
      "metadata": {
        "id": "ESHR7v-pG8y9"
      },
      "source": [
        "## 5. Mean\n",
        "\n",
        "## Definition : Mean is defined as \"The sum of observations to the number of observations\""
      ]
    },
    {
      "cell_type": "code",
      "metadata": {
        "colab": {
          "base_uri": "https://localhost:8080/"
        },
        "id": "9PRxerW-HeQi",
        "outputId": "7be68295-06fe-49e6-ff9d-38932c59c2b1"
      },
      "source": [
        "noofobservations=len(a_list)\n",
        "sumofobservations=total   #check in 2 (finding Maximum and Minimum)\n",
        "Mean=sumofobservations/noofobservations\n",
        "print(\"Mean of the list of elements is:\", Mean)"
      ],
      "execution_count": 7,
      "outputs": [
        {
          "output_type": "stream",
          "name": "stdout",
          "text": [
            "Mean of the list of elements is: 4.7\n"
          ]
        }
      ]
    },
    {
      "cell_type": "markdown",
      "metadata": {
        "id": "n7nDwj2xIHb7"
      },
      "source": [
        "## 6. Variance\n",
        "\n",
        "# Definition : Variance is defined as Average of the squared differences from the mean"
      ]
    },
    {
      "cell_type": "code",
      "metadata": {
        "colab": {
          "base_uri": "https://localhost:8080/"
        },
        "id": "Mviab-6uMk_C",
        "outputId": "7f2e8240-3a81-4df5-a8f6-e6a6e2b9a67f"
      },
      "source": [
        "\n",
        "variance = sum((i-Mean)**2 for i in a_list) / len(a_list)    # Calculated mean in 4\n",
        "print(\"Varaince of the elements in the list is:\", variance)"
      ],
      "execution_count": 19,
      "outputs": [
        {
          "output_type": "stream",
          "name": "stdout",
          "text": [
            "Varaince is: 6.8100000000000005\n"
          ]
        }
      ]
    },
    {
      "cell_type": "markdown",
      "metadata": {
        "id": "-zA9x4l_NV4x"
      },
      "source": [
        "## 7. Standard deviation\n",
        "## Definition : Standard deviation is the square root of the variance of a given sample"
      ]
    },
    {
      "cell_type": "code",
      "metadata": {
        "colab": {
          "base_uri": "https://localhost:8080/"
        },
        "id": "Mp0v713oPA9a",
        "outputId": "72f81641-a259-4d11-de1c-abf7f6ade36c"
      },
      "source": [
        "Sd = variance**0.5\n",
        "print(\"The Standard Deviation for the given list of elements is :\", Sd)"
      ],
      "execution_count": 20,
      "outputs": [
        {
          "output_type": "stream",
          "name": "stdout",
          "text": [
            "The Standard Deviation for the given list of elements is : 2.6095976701399777\n"
          ]
        }
      ]
    }
  ]
}